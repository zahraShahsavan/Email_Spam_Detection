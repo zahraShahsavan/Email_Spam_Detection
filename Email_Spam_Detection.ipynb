{
 "cells": [
  {
   "cell_type": "markdown",
   "id": "e72ebf4b",
   "metadata": {},
   "source": [
    "# Email Spam Classification System"
   ]
  },
  {
   "cell_type": "markdown",
   "id": "35a48970",
   "metadata": {},
   "source": [
    "Introduction\n",
    "\n",
    "This document outlines the implementation of a machine learning-based email spam classification system using Python. The system uses a dataset of emails to train a Naive Bayes model for spam detection. It provides functionalities to preprocess email content, train the model, evaluate its performance, and make predictions."
   ]
  },
  {
   "cell_type": "markdown",
   "id": "8e544b16",
   "metadata": {},
   "source": [
    "Prerequisites:\n",
    "\n",
    "To run this implementation, ensure the following libraries are installed:\n",
    "\n",
    "-kagglehub\n",
    "\n",
    "-pandas\n",
    "\n",
    "-numpy\n",
    "\n",
    "-scikit-learn\n",
    "\n",
    "-nltk\n",
    "\n",
    "-pickle\n",
    "\n",
    "To install missing packages, run:"
   ]
  },
  {
   "cell_type": "code",
   "execution_count": 4,
   "id": "60e9d59c",
   "metadata": {},
   "outputs": [
    {
     "name": "stdout",
     "output_type": "stream",
     "text": [
      "Requirement already satisfied: kagglehub in c:\\users\\tsn-a0055\\miniconda3\\envs\\rl-lab\\lib\\site-packages (0.2.9)\n",
      "Requirement already satisfied: pandas in c:\\users\\tsn-a0055\\miniconda3\\envs\\rl-lab\\lib\\site-packages (1.3.5)\n",
      "Requirement already satisfied: numpy in c:\\users\\tsn-a0055\\miniconda3\\envs\\rl-lab\\lib\\site-packages (1.21.5)\n",
      "Requirement already satisfied: scikit-learn in c:\\users\\tsn-a0055\\miniconda3\\envs\\rl-lab\\lib\\site-packages (1.0.2)\n",
      "Requirement already satisfied: nltk in c:\\users\\tsn-a0055\\miniconda3\\envs\\rl-lab\\lib\\site-packages (3.8.1)\n",
      "Requirement already satisfied: packaging in c:\\users\\tsn-a0055\\miniconda3\\envs\\rl-lab\\lib\\site-packages (from kagglehub) (22.0)\n",
      "Requirement already satisfied: requests in c:\\users\\tsn-a0055\\miniconda3\\envs\\rl-lab\\lib\\site-packages (from kagglehub) (2.28.1)\n",
      "Requirement already satisfied: tqdm in c:\\users\\tsn-a0055\\miniconda3\\envs\\rl-lab\\lib\\site-packages (from kagglehub) (4.64.1)\n",
      "Requirement already satisfied: python-dateutil>=2.7.3 in c:\\users\\tsn-a0055\\miniconda3\\envs\\rl-lab\\lib\\site-packages (from pandas) (2.8.2)\n",
      "Requirement already satisfied: pytz>=2017.3 in c:\\users\\tsn-a0055\\miniconda3\\envs\\rl-lab\\lib\\site-packages (from pandas) (2022.7)\n",
      "Requirement already satisfied: joblib>=0.11 in c:\\users\\tsn-a0055\\miniconda3\\envs\\rl-lab\\lib\\site-packages (from scikit-learn) (1.3.2)\n",
      "Requirement already satisfied: threadpoolctl>=2.0.0 in c:\\users\\tsn-a0055\\miniconda3\\envs\\rl-lab\\lib\\site-packages (from scikit-learn) (3.1.0)\n",
      "Requirement already satisfied: scipy>=1.1.0 in c:\\users\\tsn-a0055\\miniconda3\\envs\\rl-lab\\lib\\site-packages (from scikit-learn) (1.7.3)\n",
      "Requirement already satisfied: regex>=2021.8.3 in c:\\users\\tsn-a0055\\miniconda3\\envs\\rl-lab\\lib\\site-packages (from nltk) (2024.4.16)\n",
      "Requirement already satisfied: click in c:\\users\\tsn-a0055\\miniconda3\\envs\\rl-lab\\lib\\site-packages (from nltk) (8.0.4)\n",
      "Requirement already satisfied: six>=1.5 in c:\\users\\tsn-a0055\\miniconda3\\envs\\rl-lab\\lib\\site-packages (from python-dateutil>=2.7.3->pandas) (1.16.0)\n",
      "Requirement already satisfied: colorama in c:\\users\\tsn-a0055\\miniconda3\\envs\\rl-lab\\lib\\site-packages (from click->nltk) (0.4.6)\n",
      "Requirement already satisfied: importlib-metadata in c:\\users\\tsn-a0055\\miniconda3\\envs\\rl-lab\\lib\\site-packages (from click->nltk) (4.11.3)\n",
      "Requirement already satisfied: charset-normalizer<3,>=2 in c:\\users\\tsn-a0055\\miniconda3\\envs\\rl-lab\\lib\\site-packages (from requests->kagglehub) (2.0.4)\n",
      "Requirement already satisfied: certifi>=2017.4.17 in c:\\users\\tsn-a0055\\miniconda3\\envs\\rl-lab\\lib\\site-packages (from requests->kagglehub) (2022.12.7)\n",
      "Requirement already satisfied: urllib3<1.27,>=1.21.1 in c:\\users\\tsn-a0055\\miniconda3\\envs\\rl-lab\\lib\\site-packages (from requests->kagglehub) (1.26.14)\n",
      "Requirement already satisfied: idna<4,>=2.5 in c:\\users\\tsn-a0055\\miniconda3\\envs\\rl-lab\\lib\\site-packages (from requests->kagglehub) (3.4)\n",
      "Requirement already satisfied: zipp>=0.5 in c:\\users\\tsn-a0055\\miniconda3\\envs\\rl-lab\\lib\\site-packages (from importlib-metadata->click->nltk) (3.11.0)\n",
      "Requirement already satisfied: typing-extensions>=3.6.4 in c:\\users\\tsn-a0055\\miniconda3\\envs\\rl-lab\\lib\\site-packages (from importlib-metadata->click->nltk) (4.4.0)\n",
      "Note: you may need to restart the kernel to use updated packages.\n"
     ]
    }
   ],
   "source": [
    "pip install kagglehub pandas numpy scikit-learn nltk"
   ]
  },
  {
   "cell_type": "code",
   "execution_count": 7,
   "id": "6b8361ec",
   "metadata": {},
   "outputs": [],
   "source": [
    "import kagglehub\n",
    "import pandas as pd\n",
    "import numpy as np\n",
    "from sklearn.model_selection import train_test_split\n",
    "from sklearn.naive_bayes import MultinomialNB\n",
    "from sklearn.metrics import confusion_matrix, classification_report, f1_score\n",
    "from nltk.tokenize import SpaceTokenizer \n",
    "import pickle\n",
    "from collections import Counter\n",
    "from sklearn.model_selection import train_test_split\n",
    "from sklearn.naive_bayes import MultinomialNB\n",
    "from sklearn.metrics import confusion_matrix, classification_report, f1_score"
   ]
  },
  {
   "cell_type": "markdown",
   "id": "4c492401",
   "metadata": {},
   "source": [
    "The dataset used is the Email Spam Classification Dataset available on Kaggle. It contains email content along with labels indicating whether an email is spam or not. The dataset is downloaded programmatically using kagglehub."
   ]
  },
  {
   "cell_type": "code",
   "execution_count": 8,
   "id": "3c0ef333",
   "metadata": {},
   "outputs": [
    {
     "name": "stdout",
     "output_type": "stream",
     "text": [
      "Warning: Looks like you're using an outdated `kagglehub` version, please consider updating (latest version: 0.3.5)\n",
      "Downloading from https://www.kaggle.com/api/v1/datasets/download/balaka18/email-spam-classification-dataset-csv?dataset_version_number=1...\n"
     ]
    },
    {
     "name": "stderr",
     "output_type": "stream",
     "text": [
      "100%|█████████████████████████████████████████████████████████████████████████████| 1.66M/1.66M [00:00<00:00, 2.29MB/s]"
     ]
    },
    {
     "name": "stdout",
     "output_type": "stream",
     "text": [
      "Extracting model files...\n"
     ]
    },
    {
     "name": "stderr",
     "output_type": "stream",
     "text": [
      "\n"
     ]
    }
   ],
   "source": [
    "path = kagglehub.dataset_download(\"balaka18/email-spam-classification-dataset-csv\")\n",
    "data = pd.read_csv(path+'/emails.csv')"
   ]
  },
  {
   "cell_type": "code",
   "execution_count": 20,
   "id": "c52436c6",
   "metadata": {},
   "outputs": [
    {
     "data": {
      "text/html": [
       "<div>\n",
       "<style scoped>\n",
       "    .dataframe tbody tr th:only-of-type {\n",
       "        vertical-align: middle;\n",
       "    }\n",
       "\n",
       "    .dataframe tbody tr th {\n",
       "        vertical-align: top;\n",
       "    }\n",
       "\n",
       "    .dataframe thead th {\n",
       "        text-align: right;\n",
       "    }\n",
       "</style>\n",
       "<table border=\"1\" class=\"dataframe\">\n",
       "  <thead>\n",
       "    <tr style=\"text-align: right;\">\n",
       "      <th></th>\n",
       "      <th>Email No.</th>\n",
       "      <th>the</th>\n",
       "      <th>to</th>\n",
       "      <th>ect</th>\n",
       "      <th>and</th>\n",
       "      <th>for</th>\n",
       "      <th>of</th>\n",
       "      <th>a</th>\n",
       "      <th>you</th>\n",
       "      <th>hou</th>\n",
       "      <th>...</th>\n",
       "      <th>connevey</th>\n",
       "      <th>jay</th>\n",
       "      <th>valued</th>\n",
       "      <th>lay</th>\n",
       "      <th>infrastructure</th>\n",
       "      <th>military</th>\n",
       "      <th>allowing</th>\n",
       "      <th>ff</th>\n",
       "      <th>dry</th>\n",
       "      <th>Prediction</th>\n",
       "    </tr>\n",
       "  </thead>\n",
       "  <tbody>\n",
       "    <tr>\n",
       "      <th>0</th>\n",
       "      <td>Email 1</td>\n",
       "      <td>0</td>\n",
       "      <td>0</td>\n",
       "      <td>1</td>\n",
       "      <td>0</td>\n",
       "      <td>0</td>\n",
       "      <td>0</td>\n",
       "      <td>2</td>\n",
       "      <td>0</td>\n",
       "      <td>0</td>\n",
       "      <td>...</td>\n",
       "      <td>0</td>\n",
       "      <td>0</td>\n",
       "      <td>0</td>\n",
       "      <td>0</td>\n",
       "      <td>0</td>\n",
       "      <td>0</td>\n",
       "      <td>0</td>\n",
       "      <td>0</td>\n",
       "      <td>0</td>\n",
       "      <td>0</td>\n",
       "    </tr>\n",
       "    <tr>\n",
       "      <th>1</th>\n",
       "      <td>Email 2</td>\n",
       "      <td>8</td>\n",
       "      <td>13</td>\n",
       "      <td>24</td>\n",
       "      <td>6</td>\n",
       "      <td>6</td>\n",
       "      <td>2</td>\n",
       "      <td>102</td>\n",
       "      <td>1</td>\n",
       "      <td>27</td>\n",
       "      <td>...</td>\n",
       "      <td>0</td>\n",
       "      <td>0</td>\n",
       "      <td>0</td>\n",
       "      <td>0</td>\n",
       "      <td>0</td>\n",
       "      <td>0</td>\n",
       "      <td>0</td>\n",
       "      <td>1</td>\n",
       "      <td>0</td>\n",
       "      <td>0</td>\n",
       "    </tr>\n",
       "    <tr>\n",
       "      <th>2</th>\n",
       "      <td>Email 3</td>\n",
       "      <td>0</td>\n",
       "      <td>0</td>\n",
       "      <td>1</td>\n",
       "      <td>0</td>\n",
       "      <td>0</td>\n",
       "      <td>0</td>\n",
       "      <td>8</td>\n",
       "      <td>0</td>\n",
       "      <td>0</td>\n",
       "      <td>...</td>\n",
       "      <td>0</td>\n",
       "      <td>0</td>\n",
       "      <td>0</td>\n",
       "      <td>0</td>\n",
       "      <td>0</td>\n",
       "      <td>0</td>\n",
       "      <td>0</td>\n",
       "      <td>0</td>\n",
       "      <td>0</td>\n",
       "      <td>0</td>\n",
       "    </tr>\n",
       "    <tr>\n",
       "      <th>3</th>\n",
       "      <td>Email 4</td>\n",
       "      <td>0</td>\n",
       "      <td>5</td>\n",
       "      <td>22</td>\n",
       "      <td>0</td>\n",
       "      <td>5</td>\n",
       "      <td>1</td>\n",
       "      <td>51</td>\n",
       "      <td>2</td>\n",
       "      <td>10</td>\n",
       "      <td>...</td>\n",
       "      <td>0</td>\n",
       "      <td>0</td>\n",
       "      <td>0</td>\n",
       "      <td>0</td>\n",
       "      <td>0</td>\n",
       "      <td>0</td>\n",
       "      <td>0</td>\n",
       "      <td>0</td>\n",
       "      <td>0</td>\n",
       "      <td>0</td>\n",
       "    </tr>\n",
       "    <tr>\n",
       "      <th>4</th>\n",
       "      <td>Email 5</td>\n",
       "      <td>7</td>\n",
       "      <td>6</td>\n",
       "      <td>17</td>\n",
       "      <td>1</td>\n",
       "      <td>5</td>\n",
       "      <td>2</td>\n",
       "      <td>57</td>\n",
       "      <td>0</td>\n",
       "      <td>9</td>\n",
       "      <td>...</td>\n",
       "      <td>0</td>\n",
       "      <td>0</td>\n",
       "      <td>0</td>\n",
       "      <td>0</td>\n",
       "      <td>0</td>\n",
       "      <td>0</td>\n",
       "      <td>0</td>\n",
       "      <td>1</td>\n",
       "      <td>0</td>\n",
       "      <td>0</td>\n",
       "    </tr>\n",
       "  </tbody>\n",
       "</table>\n",
       "<p>5 rows × 3002 columns</p>\n",
       "</div>"
      ],
      "text/plain": [
       "  Email No.  the  to  ect  and  for  of    a  you  hou  ...  connevey  jay  \\\n",
       "0   Email 1    0   0    1    0    0   0    2    0    0  ...         0    0   \n",
       "1   Email 2    8  13   24    6    6   2  102    1   27  ...         0    0   \n",
       "2   Email 3    0   0    1    0    0   0    8    0    0  ...         0    0   \n",
       "3   Email 4    0   5   22    0    5   1   51    2   10  ...         0    0   \n",
       "4   Email 5    7   6   17    1    5   2   57    0    9  ...         0    0   \n",
       "\n",
       "   valued  lay  infrastructure  military  allowing  ff  dry  Prediction  \n",
       "0       0    0               0         0         0   0    0           0  \n",
       "1       0    0               0         0         0   1    0           0  \n",
       "2       0    0               0         0         0   0    0           0  \n",
       "3       0    0               0         0         0   0    0           0  \n",
       "4       0    0               0         0         0   1    0           0  \n",
       "\n",
       "[5 rows x 3002 columns]"
      ]
     },
     "execution_count": 20,
     "metadata": {},
     "output_type": "execute_result"
    }
   ],
   "source": [
    "data.head()"
   ]
  },
  {
   "cell_type": "markdown",
   "id": "fd911e14",
   "metadata": {},
   "source": [
    "The data is split into training and testing sets. A Naive Bayes model (MultinomialNB) is trained on the training data and the trained model is serialized using pickle for future use."
   ]
  },
  {
   "cell_type": "code",
   "execution_count": 23,
   "id": "7391bfc8",
   "metadata": {},
   "outputs": [
    {
     "name": "stdout",
     "output_type": "stream",
     "text": [
      "<class 'pandas.core.frame.DataFrame'>\n",
      "RangeIndex: 5172 entries, 0 to 5171\n",
      "Columns: 3002 entries, Email No. to Prediction\n",
      "dtypes: int64(3001), object(1)\n",
      "memory usage: 118.5+ MB\n"
     ]
    }
   ],
   "source": [
    "data.info()"
   ]
  },
  {
   "cell_type": "code",
   "execution_count": 27,
   "id": "e2a3a05a",
   "metadata": {},
   "outputs": [
    {
     "data": {
      "text/plain": [
       "0"
      ]
     },
     "execution_count": 27,
     "metadata": {},
     "output_type": "execute_result"
    }
   ],
   "source": [
    "data.isnull().sum().sum()"
   ]
  },
  {
   "cell_type": "code",
   "execution_count": 11,
   "id": "fbc690f6",
   "metadata": {},
   "outputs": [],
   "source": [
    "# Prepare features (X) and labels (y)\n",
    "X = data.drop(columns=[\"Email No.\", \"Prediction\"])  # Drop non-feature columns\n",
    "y = data[\"Prediction\"]\n",
    "\n",
    "# Train-test split\n",
    "X_train, X_test, y_train, y_test = train_test_split(X, y, test_size=0.3, random_state=42)\n",
    "\n",
    "# Train the model on vectorized data\n",
    "model = MultinomialNB()\n",
    "model.fit(X_train, y_train)\n",
    "\n",
    "\n",
    "# Save the trained model\n",
    "with open('spam_model.pkl', 'wb') as model_file:\n",
    "    pickle.dump(model, model_file)"
   ]
  },
  {
   "cell_type": "markdown",
   "id": "a0c08a0c",
   "metadata": {},
   "source": [
    "The model's performance is evaluated using a confusion matrix, classification report, and F1 score."
   ]
  },
  {
   "cell_type": "code",
   "execution_count": 12,
   "id": "daece6dd",
   "metadata": {},
   "outputs": [
    {
     "name": "stdout",
     "output_type": "stream",
     "text": [
      "Confusion Matrix:\n",
      " [[1039   58]\n",
      " [  22  433]]\n",
      "\n",
      "Classification Report:\n",
      "               precision    recall  f1-score   support\n",
      "\n",
      "           0       0.98      0.95      0.96      1097\n",
      "           1       0.88      0.95      0.92       455\n",
      "\n",
      "    accuracy                           0.95      1552\n",
      "   macro avg       0.93      0.95      0.94      1552\n",
      "weighted avg       0.95      0.95      0.95      1552\n",
      "\n",
      "\n",
      "F1 Score: 0.9154334038054969\n"
     ]
    }
   ],
   "source": [
    "\n",
    "# Make predictions\n",
    "y_pred = model.predict(X_test)\n",
    "\n",
    "# Evaluate the model\n",
    "conf_matrix = confusion_matrix(y_test, y_pred)\n",
    "f1 = f1_score(y_test, y_pred)\n",
    "\n",
    "print(\"Confusion Matrix:\\n\", conf_matrix)\n",
    "print(\"\\nClassification Report:\\n\", classification_report(y_test, y_pred))\n",
    "print(\"\\nF1 Score:\", f1)"
   ]
  },
  {
   "cell_type": "markdown",
   "id": "80e80127",
   "metadata": {},
   "source": [
    "This is a function to preprocess the input email by making it lower case and tokenizing email content using NLTK's SpaceTokenizer."
   ]
  },
  {
   "cell_type": "code",
   "execution_count": 16,
   "id": "1ae67fc7",
   "metadata": {},
   "outputs": [],
   "source": [
    "def preprocess_email(text):\n",
    "\n",
    "    # Basic cleaning and tokenization\n",
    "    text = text.lower()  # Convert to lowercase\n",
    "    tk = SpaceTokenizer() \n",
    "    tokens = tk.tokenize(text) \n",
    "    return tokens"
   ]
  },
  {
   "cell_type": "markdown",
   "id": "3c513c61",
   "metadata": {},
   "source": [
    "This function is used to predict, if an input email is spam or not based on the saved model. It loads the model and then preprocess the email and create a data frame for the email to make a prediction. The data frame use the model features."
   ]
  },
  {
   "cell_type": "code",
   "execution_count": 18,
   "id": "2bc5e1d1",
   "metadata": {},
   "outputs": [],
   "source": [
    "def predict_email(email_content):\n",
    "\n",
    "    # Load the trained model\n",
    "    with open('spam_model.pkl', 'rb') as model_file:\n",
    "        model = pickle.load(model_file)\n",
    "\n",
    "    # Preprocess the email content\n",
    "    tokens = preprocess_email(email_content)\n",
    "\n",
    "\n",
    "    # Count the occurrences of tokens\n",
    "    token_counts = Counter(tokens)\n",
    "\n",
    "    # Create a DataFrame with tokens as columns and their counts as values\n",
    "    df = pd.DataFrame([token_counts])\n",
    "    all_possible_features = model.feature_names_in_\n",
    "    df = df.reindex(columns=all_possible_features, fill_value=0)\n",
    "  \n",
    "    # Predict spam or not\n",
    "    prediction = model.predict(df)\n",
    "    return \"Spam\" if prediction[0] == 1 else \"Not Spam\""
   ]
  },
  {
   "cell_type": "markdown",
   "id": "32770b13",
   "metadata": {},
   "source": [
    "Get an email as input and predict is it spam or not."
   ]
  },
  {
   "cell_type": "code",
   "execution_count": 19,
   "id": "6206555a",
   "metadata": {},
   "outputs": [
    {
     "name": "stdout",
     "output_type": "stream",
     "text": [
      "Enter the email content: to the in etc\n",
      "   the  to  ect  and  for  of  a  you  hou  in  ...  enhancements  connevey  \\\n",
      "0    1   1    0    0    0   0  0    0    0   1  ...             0         0   \n",
      "\n",
      "   jay  valued  lay  infrastructure  military  allowing  ff  dry  \n",
      "0    0       0    0               0         0         0   0    0  \n",
      "\n",
      "[1 rows x 3000 columns]\n",
      "The email is classified as: Not Spam\n"
     ]
    }
   ],
   "source": [
    "if __name__ == \"__main__\":\n",
    "    # Get email content from the user\n",
    "    email_content = input(\"Enter the email content: \")\n",
    "\n",
    "    # Make a prediction\n",
    "    result = predict_email(email_content)\n",
    "\n",
    "    # Output the prediction result\n",
    "    print(f\"The email is classified as: {result}\")"
   ]
  },
  {
   "cell_type": "code",
   "execution_count": null,
   "id": "f95f36a5",
   "metadata": {},
   "outputs": [],
   "source": []
  }
 ],
 "metadata": {
  "kernelspec": {
   "display_name": "Python 3 (ipykernel)",
   "language": "python",
   "name": "python3"
  },
  "language_info": {
   "codemirror_mode": {
    "name": "ipython",
    "version": 3
   },
   "file_extension": ".py",
   "mimetype": "text/x-python",
   "name": "python",
   "nbconvert_exporter": "python",
   "pygments_lexer": "ipython3",
   "version": "3.7.3"
  }
 },
 "nbformat": 4,
 "nbformat_minor": 5
}
